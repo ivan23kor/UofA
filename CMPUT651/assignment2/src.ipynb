{
 "cells": [
  {
   "cell_type": "markdown",
   "metadata": {},
   "source": [
    "## Import legal packages\n",
    "<strike>from sklearn.linear_models import LogisticRegressionCV</strike><br>\n",
    "<strike>import tensorflow as tf</strike>"
   ]
  },
  {
   "cell_type": "code",
   "execution_count": 1,
   "metadata": {},
   "outputs": [],
   "source": [
    "from ipywidgets import interact, interact_manual\n",
    "from multilayer_perceptron import MLP\n",
    "from tqdm import tqdm_notebook as tqdm\n",
    "import helpers\n",
    "import ipywidgets as widgets\n",
    "import matplotlib.pyplot as plt\n",
    "import pickle"
   ]
  },
  {
   "cell_type": "markdown",
   "metadata": {},
   "source": [
    "## Data for this notebook"
   ]
  },
  {
   "cell_type": "code",
   "execution_count": 2,
   "metadata": {},
   "outputs": [],
   "source": [
    "READ_FROM_DISK = True\n",
    "DATA_FILE = \"../data.pkl\"\n",
    "VOCAB_FILE = \"../vocab.pkl\""
   ]
  },
  {
   "cell_type": "markdown",
   "metadata": {},
   "source": [
    "## Read <font color=\"green\">train</font>, <font color=\"blue\">val</font>, <font color=\"red\">test</font> from disk or build them from the dataset"
   ]
  },
  {
   "cell_type": "code",
   "execution_count": 3,
   "metadata": {
    "scrolled": true
   },
   "outputs": [
    {
     "name": "stdout",
     "output_type": "stream",
     "text": [
      "Sizes - train: 20000, val: 5000, test: 25000\n",
      "Vocabulary of size 2000 and TOP-5 popular words: ['the', 'a', 'and', 'of', 'to']\n"
     ]
    }
   ],
   "source": [
    "if READ_FROM_DISK:\n",
    "    X_train, y_train, X_val, y_val, X_test, y_test = pickle.load(open(DATA_FILE , \"rb+\"))\n",
    "    id2word, word2id = pickle.load(open(VOCAB_FILE , \"rb+\"))\n",
    "else:\n",
    "    # Read, tokenize and split dataset\n",
    "    (X_train, y_train), (X_val, y_val), (X_test, y_test), (id2word, word2id) = helpers.read_aclImdb(\"../aclImdb/\")\n",
    "    # Save on disk\n",
    "    pickle.dump((X_train, y_train, X_val, y_val, X_test, y_test), open(DATA_FILE , \"wb\"))\n",
    "    pickle.dump((id2word, word2id), open(VOCAB_FILE , \"wb\"))\n",
    "\n",
    "print(\"Sizes - train: {0}, val: {1}, test: {2}\".format(len(X_train), len(X_val), len(X_test)))\n",
    "print(\"Vocabulary of size {0} and TOP-5 popular words: {1}\".format(len(id2word), id2word[:5]))"
   ]
  },
  {
   "cell_type": "markdown",
   "metadata": {},
   "source": [
    "## Training"
   ]
  },
  {
   "cell_type": "code",
   "execution_count": 4,
   "metadata": {},
   "outputs": [],
   "source": [
    "def train(hidden_size=200, epochs=10):\n",
    "    global model, scores, weights\n",
    "    scores, weights = {'train': [], 'val': []}, []\n",
    "    model = MLP(hidden_sizes=[hidden_size, 1])\n",
    "    for i in tqdm(range(1, epochs + 1)):\n",
    "        print(\"Epoch #{0} ->\".format(i), end=\"\")\n",
    "        for x, y in helpers.batches(X_train, y_train):\n",
    "            model.fit(x, y)\n",
    "        # Print scores each epoch\n",
    "        train_score = model.score(X_train, y_train)\n",
    "        val_score = model.score(X_val, y_val)\n",
    "        print(\"train: {0:.2f}%, val: {1:.2f}%\".format(train_score * 100, val_score * 100))\n",
    "        # Save scores each epoch, min_loss will give the index for the best epoch\n",
    "        scores['train'].append(train_score)\n",
    "        scores['val'].append(val_score)\n",
    "        # Save weights each epoch to restore the best model\n",
    "        weights.append([model.Ws, model.bs])"
   ]
  },
  {
   "cell_type": "code",
   "execution_count": 5,
   "metadata": {},
   "outputs": [
    {
     "data": {
      "application/vnd.jupyter.widget-view+json": {
       "model_id": "d941bde8984c4b2b8b054c995a4dc097",
       "version_major": 2,
       "version_minor": 0
      },
      "text/plain": [
       "interactive(children=(IntSlider(value=200, description='hidden_size', max=500, min=50, step=50), IntSlider(val…"
      ]
     },
     "metadata": {},
     "output_type": "display_data"
    }
   ],
   "source": [
    "stats = interact_manual(train, hidden_size=widgets.IntSlider(200, 50, 500, 50), epochs=widgets.IntSlider(10, 10, 300, 10))"
   ]
  },
  {
   "cell_type": "markdown",
   "metadata": {},
   "source": [
    "## Plotting"
   ]
  },
  {
   "cell_type": "code",
   "execution_count": 14,
   "metadata": {},
   "outputs": [],
   "source": [
    "def plot_losses(train, val, filename=None):\n",
    "    # Plot train, val and guess\n",
    "    plt.plot(train, label='train', color='blue')\n",
    "    plt.plot(val, label='val', color='green')\n",
    "    plt.hlines(1. / 2, colors='r', linewidth=3, xmin=0, xmax=len(train) - 1, label='guess')\n",
    "    # Legend and axis\n",
    "    plt.xlabel('epoch #')\n",
    "    plt.ylabel('accuracy')\n",
    "    plt.legend()\n",
    "    if filename: plt.savefig(filename) # Save plot if requested\n",
    "    plt.show()"
   ]
  },
  {
   "cell_type": "code",
   "execution_count": 15,
   "metadata": {},
   "outputs": [
    {
     "data": {
      "image/png": "[encoded data removed]",
      "text/plain": [
       "<Figure size 432x288 with 1 Axes>"
      ]
     },
     "metadata": {
      "needs_background": "light"
     },
     "output_type": "display_data"
    }
   ],
   "source": [
    "plot_losses(scores['train'], scores['val'], \"results20.png\")"
   ]
  },
  {
   "cell_type": "markdown",
   "metadata": {},
   "source": [
    "## Estimating test loss of the best model"
   ]
  },
  {
   "cell_type": "code",
   "execution_count": 16,
   "metadata": {},
   "outputs": [
    {
     "name": "stdout",
     "output_type": "stream",
     "text": [
      "Best model achieved at epoch #10\n",
      "Test accuracy: 83.22% (random guess is 50.00%).\n"
     ]
    }
   ],
   "source": [
    "best_epoch_idx = scores['val'].index(max(scores['val']))\n",
    "print(\"Best model achieved at epoch #{0}\".format(best_epoch_idx + 1))\n",
    "model.Ws, model.bs = weights[best_epoch_idx]\n",
    "print(\"Test accuracy: {0:.2f}% (random guess is {1:.2f}%).\".format(model.score(X_test, y_test) * 100, 1. / 2 * 100))"
   ]
  }
 ],
 "metadata": {
  "kernelspec": {
   "display_name": "Python 3",
   "language": "python",
   "name": "python3"
  },
  "language_info": {
   "codemirror_mode": {
    "name": "ipython",
    "version": 3
   },
   "file_extension": ".py",
   "mimetype": "text/x-python",
   "name": "python",
   "nbconvert_exporter": "python",
   "pygments_lexer": "ipython3",
   "version": "3.6.8"
  }
 },
 "nbformat": 4,
 "nbformat_minor": 2
}
