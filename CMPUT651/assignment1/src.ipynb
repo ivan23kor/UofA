{
 "cells": [
  {
   "cell_type": "markdown",
   "metadata": {},
   "source": [
    "## Import legal packages\n",
    "<strike>from sklearn.linear_models import LogisticRegressionCV</strike><br>\n",
    "<strike>import tensorflow as tf</strike>"
   ]
  },
  {
   "cell_type": "code",
   "execution_count": 1,
   "metadata": {},
   "outputs": [],
   "source": [
    "from tqdm import tqdm\n",
    "import helpers\n",
    "import logistic_regression as myLR\n",
    "import matplotlib.pyplot as plt\n",
    "import pickle"
   ]
  },
  {
   "cell_type": "markdown",
   "metadata": {},
   "source": [
    "## The only hyperparameters for this notebook"
   ]
  },
  {
   "cell_type": "code",
   "execution_count": 2,
   "metadata": {},
   "outputs": [],
   "source": [
    "N_EPOCH = 300\n",
    "READ_FROM_DISK = True"
   ]
  },
  {
   "cell_type": "markdown",
   "metadata": {},
   "source": [
    "## Read <font color=\"green\">train</font>, <font color=\"blue\">val</font>, <font color=\"red\">test</font> from disk or build them from the dataset"
   ]
  },
  {
   "cell_type": "code",
   "execution_count": 3,
   "metadata": {},
   "outputs": [
    {
     "name": "stdout",
     "output_type": "stream",
     "text": [
      "Sizes - train: 20000, val: 5000, test: 25000\n",
      "Vocabulary of size 2000 and TOP-5 popular words: ['the', 'a', 'and', 'of', 'to']\n"
     ]
    }
   ],
   "source": [
    "if READ_FROM_DISK:\n",
    "    X_train, y_train, X_val, y_val, X_test, y_test = pickle.load(open(\"data.pkl\" , \"rb+\"))\n",
    "    id2word, word2id = pickle.load(open(\"vocab.pkl\" , \"rb+\"))\n",
    "else:\n",
    "    # Read, tokenize and split dataset\n",
    "    (X_train, y_train), (X_val, y_val), (X_test, y_test), (id2word, word2id) = helpers.read_aclImdb(\"../aclImdb/\")\n",
    "    # Save on disk\n",
    "    pickle.dump((X_train, y_train, X_val, y_val, X_test, y_test), open(\"data.pkl\" , \"wb\"))\n",
    "    pickle.dump((id2word, word2id), open(\"vocab.pkl\" , \"wb\"))\n",
    "\n",
    "print(\"Sizes - train: {0}, val: {1}, test: {2}\".format(len(X_train), len(X_val), len(X_test)))\n",
    "print(\"Vocabulary of size {0} and TOP-5 popular words: {1}\".format(len(id2word), id2word[:5]))"
   ]
  },
  {
   "cell_type": "markdown",
   "metadata": {},
   "source": [
    "## Training"
   ]
  },
  {
   "cell_type": "code",
   "execution_count": 4,
   "metadata": {},
   "outputs": [
    {
     "name": "stderr",
     "output_type": "stream",
     "text": [
      "100%|██████████| 300/300 [02:45<00:00,  1.81it/s]\n"
     ]
    }
   ],
   "source": [
    "scores = {'train': [], 'val': []}\n",
    "weights = []\n",
    "model = myLR.LogisticRegression()\n",
    "for _ in tqdm(range(N_EPOCH)):\n",
    "    for i, (x, y) in enumerate(helpers.batches(X_train, y_train)):\n",
    "        model.fit(x, y)\n",
    "    # Save losses each epoch, min_loss will give the index for the best epoch\n",
    "    scores['train'].append(model.score(X_train, y_train))\n",
    "    scores['val'].append(model.score(X_val, y_val))\n",
    "    # Save weights each epoch to restore the best model\n",
    "    weights.append((model.W, model.b))"
   ]
  },
  {
   "cell_type": "markdown",
   "metadata": {},
   "source": [
    "## Plotting"
   ]
  },
  {
   "cell_type": "code",
   "execution_count": 5,
   "metadata": {},
   "outputs": [],
   "source": [
    "def plot_losses(train, val, filename=None):\n",
    "    # Plot train, val and guess\n",
    "    plt.plot(train, label='train', color='blue')\n",
    "    plt.plot(val, label='val', color='green')\n",
    "    plt.hlines(1. / 2, colors='r', linewidth=3, xmin=0, xmax=len(train), label='guess')\n",
    "    # Legend and axis\n",
    "    plt.xlabel('epoch #')\n",
    "    plt.ylabel('accuracy')\n",
    "    plt.legend()\n",
    "    if filename: plt.savefig(filename) # Save plot if requested\n",
    "    plt.show()"
   ]
  },
  {
   "cell_type": "code",
   "execution_count": 6,
   "metadata": {},
   "outputs": [
    {
     "data": {
      "image/png": "[encoded data removed]",
      "text/plain": [
       "<Figure size 432x288 with 1 Axes>"
      ]
     },
     "metadata": {
      "needs_background": "light"
     },
     "output_type": "display_data"
    }
   ],
   "source": [
    "plot_losses(scores['train'], scores['val'], \"results.png\")"
   ]
  },
  {
   "cell_type": "markdown",
   "metadata": {},
   "source": [
    "## Estimating test loss of the best model"
   ]
  },
  {
   "cell_type": "code",
   "execution_count": 7,
   "metadata": {},
   "outputs": [
    {
     "name": "stdout",
     "output_type": "stream",
     "text": [
      "Best model achieved at epoch #23\n",
      "Test accuracy: 84.25% (random guess is 50.00%).\n"
     ]
    }
   ],
   "source": [
    "best_epoch = scores['val'].index(max(scores['val']))\n",
    "print(\"Best model achieved at epoch #{0}\".format(best_epoch))\n",
    "model.W, model.b = weights[best_epoch]\n",
    "print(\"Test accuracy: {0:.2f}% (random guess is {1:.2f}%).\".format(model.score(X_test, y_test) * 100, 1. / 2 * 100))"
   ]
  }
 ],
 "metadata": {
  "kernelspec": {
   "display_name": "Python 3",
   "language": "python",
   "name": "python3"
  },
  "language_info": {
   "codemirror_mode": {
    "name": "ipython",
    "version": 3
   },
   "file_extension": ".py",
   "mimetype": "text/x-python",
   "name": "python",
   "nbconvert_exporter": "python",
   "pygments_lexer": "ipython3",
   "version": "3.6.8"
  }
 },
 "nbformat": 4,
 "nbformat_minor": 2
}
